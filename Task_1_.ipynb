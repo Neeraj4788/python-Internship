{
  "nbformat": 4,
  "nbformat_minor": 0,
  "metadata": {
    "colab": {
      "provenance": [],
      "authorship_tag": "ABX9TyMWIyW8/9ARR7Xyo0OBlBTT",
      "include_colab_link": true
    },
    "kernelspec": {
      "name": "python3",
      "display_name": "Python 3"
    },
    "language_info": {
      "name": "python"
    }
  },
  "cells": [
    {
      "cell_type": "markdown",
      "metadata": {
        "id": "view-in-github",
        "colab_type": "text"
      },
      "source": [
        "<a href=\"https://colab.research.google.com/github/Neeraj4788/python-Internship/blob/main/Task_1_.ipynb\" target=\"_parent\"><img src=\"https://colab.research.google.com/assets/colab-badge.svg\" alt=\"Open In Colab\"/></a>"
      ]
    },
    {
      "cell_type": "code",
      "execution_count": 91,
      "metadata": {
        "colab": {
          "base_uri": "https://localhost:8080/"
        },
        "id": "fzeLrJvtFEun",
        "outputId": "7cf3d9f4-3389-4189-dd96-eec7a018d7a6"
      },
      "outputs": [
        {
          "output_type": "stream",
          "name": "stdout",
          "text": [
            "Reversed string: Hello, world!\n"
          ]
        }
      ],
      "source": [
        "# 1.  Objective: To identify and fix errors in a Python program that manipulates strings.\n",
        "def reverse_string(s):\n",
        "    reversed_string = \"\"  # changed the variable name to \"reversed_str\"\n",
        "    for i in range(len(s) - 1, -1, -1):\n",
        "        reversed_string += s[i]\n",
        "    return reversed_string\n",
        "\n",
        "\n",
        "def main():\n",
        "    input_string = \"Hello, world!\"\n",
        "    reversed_string = reverse_string(input_string)\n",
        "    print(f\"Reversed string: {input_string}\")\n",
        "\n",
        "\n",
        "if __name__ == \"__main__\":\n",
        "    main()\n"
      ]
    },
    {
      "cell_type": "code",
      "source": [
        "# 2. Objective: To identify and fix errors in a Python program that validates user input.\n",
        "\n",
        "def get_age():\n",
        "    age = input(\"Please enter your age: \")\n",
        "    if age.isnumeric() and int(age) >= 18:\n",
        "        return int(age)\n",
        "    else:\n",
        "        return None\n",
        "\n",
        "def main():\n",
        "    age = get_age()\n",
        "    if age:\n",
        "        print(\"You are {18} years old and eligible.\")\n",
        "    else:\n",
        "        print(\"Invalid input. You must be at least 18 years old.\")\n",
        "\n",
        "if __name__ == \"__main__\":\n",
        "    main()\n"
      ],
      "metadata": {
        "colab": {
          "base_uri": "https://localhost:8080/"
        },
        "id": "AQlw9RmfkasX",
        "outputId": "06ade3a7-2bc1-4196-cbb1-4499b16b934c"
      },
      "execution_count": 93,
      "outputs": [
        {
          "output_type": "stream",
          "name": "stdout",
          "text": [
            "Please enter your age: 15\n",
            "Invalid input. You must be at least 18 years old.\n"
          ]
        }
      ]
    },
    {
      "cell_type": "code",
      "source": [
        "# 3. Objective: To identify and fix errors in a Python program that reads and writes to a file.\n",
        "\n",
        "def read_and_write_file(filename):\n",
        "    try:\n",
        "        with open(filename, 'r') as file:\n",
        "            content = file.read()\n",
        "        with open(filename, 'w') as file:\n",
        "            file.write(content.upper())\n",
        "        print(f\"File '{filename}' processed successfully.\")\n",
        "    except Exception as e:\n",
        "        print(f\"An error occurred: (str(e))\")\n",
        "\n",
        "def main():\n",
        "    filename = \"sample.txt\"\n",
        "    read_and_write_file(filename)\n",
        "\n",
        "if __name__ == \"__main__\":\n",
        "    main()"
      ],
      "metadata": {
        "colab": {
          "base_uri": "https://localhost:8080/"
        },
        "id": "JsVvxDh8mm5U",
        "outputId": "f6d088ff-8a98-4fed-c866-6a4e3dad0472"
      },
      "execution_count": 95,
      "outputs": [
        {
          "output_type": "stream",
          "name": "stdout",
          "text": [
            "An error occurred: (str(e))\n"
          ]
        }
      ]
    },
    {
      "cell_type": "code",
      "source": [
        "# 4. The code aims to implement the merge sort algorithm. However, there is a bug in the code. When the student runs this code, it will raise an error or produce incorrect output. The student's task is to identify and correct the bug.\n",
        "\n",
        "#Hint: Pay close attention to the recursive calls and the merging step.\n",
        "\n",
        "def merge_sort(arr):\n",
        "    if len(arr) <= 1:\n",
        "        return arr\n",
        "\n",
        "    mid = len(arr) // 2\n",
        "    left = arr[:mid]\n",
        "    right = arr[mid:]\n",
        "\n",
        "    # Recursive calls to update left and right subarrays\n",
        "    merge_sort= (left) < (right)\n",
        "\n",
        "\n",
        "    i = j = k = 0\n",
        "\n",
        "    while i < len(left) and j < len(right):\n",
        "        if left[i] < right[j]:\n",
        "            arr[k] = left[i]\n",
        "            i += 1\n",
        "        else:\n",
        "            arr[k] = right[j]\n",
        "            j += 1\n",
        "        k += 1\n",
        "\n",
        "    while i < len(left):\n",
        "        arr[k] = left[i]\n",
        "        i += 1\n",
        "        k += 1\n",
        "\n",
        "    while j < len(right):\n",
        "        arr[k] = right[j]\n",
        "        j += 1\n",
        "        k += 1\n",
        "\n",
        "arr = [38, 27, 43, 3, 9, 82, 10]\n",
        "merge_sort(arr)\n",
        "print(f\"The sorted array is: {arr}\")"
      ],
      "metadata": {
        "colab": {
          "base_uri": "https://localhost:8080/"
        },
        "id": "4HxLf4CS4I30",
        "outputId": "a1be214a-7f7c-4fcf-8a51-b22aa293d167"
      },
      "execution_count": 105,
      "outputs": [
        {
          "output_type": "stream",
          "name": "stdout",
          "text": [
            "The sorted array is: [3, 9, 38, 27, 43, 82, 10]\n"
          ]
        }
      ]
    }
  ]
}