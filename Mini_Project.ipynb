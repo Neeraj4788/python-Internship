{
  "nbformat": 4,
  "nbformat_minor": 0,
  "metadata": {
    "colab": {
      "provenance": [],
      "authorship_tag": "ABX9TyNNMLwEDRjFZ4Lx+Cn7DaEl",
      "include_colab_link": true
    },
    "kernelspec": {
      "name": "python3",
      "display_name": "Python 3"
    },
    "language_info": {
      "name": "python"
    }
  },
  "cells": [
    {
      "cell_type": "markdown",
      "metadata": {
        "id": "view-in-github",
        "colab_type": "text"
      },
      "source": [
        "<a href=\"https://colab.research.google.com/github/Neeraj4788/python-Internship/blob/main/Mini_Project.ipynb\" target=\"_parent\"><img src=\"https://colab.research.google.com/assets/colab-badge.svg\" alt=\"Open In Colab\"/></a>"
      ]
    },
    {
      "cell_type": "markdown",
      "source": [
        "**Develop a basic to-do list application using functions and data structures**"
      ],
      "metadata": {
        "id": "numrS7PsS6hp"
      }
    },
    {
      "cell_type": "code",
      "execution_count": null,
      "metadata": {
        "id": "ypyZIj6IRQp0"
      },
      "outputs": [],
      "source": [
        "# Function to add a task to the to-do list\n",
        "def add_task(todo_list, task):\n",
        "    todo_list.append(task)\n",
        "    print(f'Task \"{task}\" added successfully.')\n",
        "\n",
        "# Function to delete a task from the to-do list\n",
        "def delete_task(todo_list, task):\n",
        "    if task in todo_list:\n",
        "        todo_list.remove(task)\n",
        "        print(f'Task \"{task}\" deleted successfully.')\n",
        "    else:\n",
        "        print(f'Task \"{task}\" not found.')\n",
        "\n",
        "# Function to display the list of tasks\n",
        "def display_tasks(todo_list):\n",
        "    if not todo_list:\n",
        "        print('No tasks in the to-do list.')\n",
        "    else:\n",
        "        print('To-Do List:')\n",
        "        for index, task in enumerate(todo_list, start=1):\n",
        "            print(f'{index}. {task}')\n",
        "\n",
        "# Function to mark a task as complete\n",
        "def mark_as_complete(todo_list, task):\n",
        "    if task in todo_list:\n",
        "        print(f'Task \"{task}\" marked as complete.')\n",
        "    else:\n",
        "        print(f'Task \"{task}\" not found.')\n",
        "\n",
        "# Main function to manage the to-do list application\n",
        "def main():\n",
        "    todo_list = []\n",
        "\n",
        "    while True:\n",
        "        print('\\nOptions:')\n",
        "        print('1. Add Task')\n",
        "        print('2. Delete Task')\n",
        "        print('3. Display Tasks')\n",
        "        print('4. Mark Task as Complete')\n",
        "        print('5. Exit')\n",
        "\n",
        "        choice = input('Enter your choice (1-5): ')\n",
        "\n",
        "        if choice == '1':\n",
        "            task = input('Enter the task: ')\n",
        "            add_task(todo_list, task)\n",
        "        elif choice == '2':\n",
        "            task = input('Enter the task to delete: ')\n",
        "            delete_task(todo_list, task)\n",
        "        elif choice == '3':\n",
        "            display_tasks(todo_list)\n",
        "        elif choice == '4':\n",
        "            task = input('Enter the task to mark as complete: ')\n",
        "            mark_as_complete(todo_list, task)\n",
        "        elif choice == '5':\n",
        "            print('Exiting the to-do list application. Goodbye!')\n",
        "            break\n",
        "        else:\n",
        "            print('Invalid choice. Please enter a number between 1 and 5.')\n",
        "\n",
        "if __name__ == \"__main__\":\n",
        "    main()"
      ]
    }
  ]
}