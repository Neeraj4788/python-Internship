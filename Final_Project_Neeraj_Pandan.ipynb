{
  "nbformat": 4,
  "nbformat_minor": 0,
  "metadata": {
    "colab": {
      "provenance": [],
      "authorship_tag": "ABX9TyNwhR4Xn2b2xrzUPqFE4/gu",
      "include_colab_link": true
    },
    "kernelspec": {
      "name": "python3",
      "display_name": "Python 3"
    },
    "language_info": {
      "name": "python"
    }
  },
  "cells": [
    {
      "cell_type": "markdown",
      "metadata": {
        "id": "view-in-github",
        "colab_type": "text"
      },
      "source": [
        "<a href=\"https://colab.research.google.com/github/Neeraj4788/python-Internship/blob/main/Final_Project_Neeraj_Pandan.ipynb\" target=\"_parent\"><img src=\"https://colab.research.google.com/assets/colab-badge.svg\" alt=\"Open In Colab\"/></a>"
      ]
    },
    {
      "cell_type": "markdown",
      "source": [
        "### **Password Manager: a Password Manager that securely stores and retrieves passwords**"
      ],
      "metadata": {
        "id": "qPKtKRsHY52Q"
      }
    },
    {
      "cell_type": "code",
      "source": [
        "import hashlib\n",
        "import getpass\n",
        "\n",
        "class PasswordManager:\n",
        "    def __init__(self):\n",
        "        self.passwords = {}\n",
        "\n",
        "    def add_password(self, website, username, password):\n",
        "        hashed_password = self._hash_password(password)\n",
        "        if website in self.passwords:\n",
        "            self.passwords[website][username] = hashed_password\n",
        "        else:\n",
        "            self.passwords[website] = {username: hashed_password}\n",
        "\n",
        "    def get_password(self, website, username):\n",
        "        if website in self.passwords and username in self.passwords[website]:\n",
        "            return self._decrypt_password(self.passwords[website][username])\n",
        "        else:\n",
        "            return None\n",
        "\n",
        "    def delete_password(self, website, username):\n",
        "        if website in self.passwords and username in self.passwords[website]:\n",
        "            del self.passwords[website][username]\n",
        "            if len(self.passwords[website]) == 0:\n",
        "                del self.passwords[website]\n",
        "            print(\"Password deleted successfully!\")\n",
        "        else:\n",
        "            print(\"Password not found!\")\n",
        "\n",
        "    def _hash_password(self, password):\n",
        "        # Use a secure hashing algorithm like SHA-256\n",
        "        hash_object = hashlib.sha256(password.encode())\n",
        "        return hash_object.hexdigest()\n",
        "\n",
        "    def _decrypt_password(self, hashed_password):\n",
        "        # Implement your decryption logic here\n",
        "        # This is just a placeholder method\n",
        "        return hashed_password\n",
        "\n",
        "# Example usage\n",
        "password_manager = PasswordManager()\n",
        "\n",
        "while True:\n",
        "    print(\"\\n===== Password Manager Menu =====\")\n",
        "    print(\"1. Add Password\")\n",
        "    print(\"2. Get Password\")\n",
        "    print(\"3. Delete Password\")\n",
        "    print(\"4. Exit\")\n",
        "\n",
        "    choice = input(\"\\nEnter your choice (1-4): \")\n",
        "\n",
        "    if choice == \"1\":\n",
        "        website = input(\"Enter the website: \")\n",
        "        username = input(\"Enter the username: \")\n",
        "        password = getpass.getpass(\"Enter the password: \")\n",
        "        password_manager.add_password(website, username, password)\n",
        "        print(\"Password added successfully!\")\n",
        "\n",
        "    elif choice == \"2\":\n",
        "        website = input(\"Enter the website: \")\n",
        "        username = input(\"Enter the username: \")\n",
        "        retrieved_password = password_manager.get_password(website, username)\n",
        "        if retrieved_password:\n",
        "            print(f\"Retrieved Password: {retrieved_password}\")\n",
        "        else:\n",
        "            print(\"Password not found!\")\n",
        "\n",
        "    elif choice == \"3\":\n",
        "        website = input(\"Enter the website: \")\n",
        "        username = input(\"Enter the username: \")\n",
        "        password_manager.delete_password(website, username)\n",
        "\n",
        "    elif choice == \"4\":\n",
        "        break\n",
        "\n",
        "    else:\n",
        "        print(\"Invalid choice. Please try again.\")\n",
        "\n",
        "print(\"\\nThank you for using the Password Manager!\")"
      ],
      "metadata": {
        "colab": {
          "base_uri": "https://localhost:8080/",
          "height": 0
        },
        "id": "uYmZ06nYo6Fh",
        "outputId": "858967d4-b605-427f-f70b-86c0d7d58b25"
      },
      "execution_count": 1,
      "outputs": [
        {
          "output_type": "stream",
          "name": "stdout",
          "text": [
            "\n",
            "===== Password Manager Menu =====\n",
            "1. Add Password\n",
            "2. Get Password\n",
            "3. Delete Password\n",
            "4. Exit\n",
            "\n",
            "Enter your choice (1-4): 1\n",
            "Enter the website: www.facebook.com\n",
            "Enter the username: neeraj\n",
            "Enter the password: ··········\n",
            "Password added successfully!\n",
            "\n",
            "===== Password Manager Menu =====\n",
            "1. Add Password\n",
            "2. Get Password\n",
            "3. Delete Password\n",
            "4. Exit\n",
            "\n",
            "Enter your choice (1-4): 1\n",
            "Enter the website: www.mp3paw.com\n",
            "Enter the username: maybe\n",
            "Enter the password: ··········\n",
            "Password added successfully!\n",
            "\n",
            "===== Password Manager Menu =====\n",
            "1. Add Password\n",
            "2. Get Password\n",
            "3. Delete Password\n",
            "4. Exit\n",
            "\n",
            "Enter your choice (1-4): 2\n",
            "Enter the website: www.facebook.com\n",
            "Enter the username: neeraj\n",
            "Retrieved Password: 15e2b0d3c33891ebb0f1ef609ec419420c20e320ce94c65fbc8c3312448eb225\n",
            "\n",
            "===== Password Manager Menu =====\n",
            "1. Add Password\n",
            "2. Get Password\n",
            "3. Delete Password\n",
            "4. Exit\n",
            "\n",
            "Enter your choice (1-4): 4\n",
            "\n",
            "Thank you for using the Password Manager!\n"
          ]
        }
      ]
    }
  ]
}