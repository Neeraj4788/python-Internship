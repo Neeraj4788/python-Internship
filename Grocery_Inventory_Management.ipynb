{
  "nbformat": 4,
  "nbformat_minor": 0,
  "metadata": {
    "colab": {
      "provenance": [],
      "authorship_tag": "ABX9TyOfpG89qkbt6tSf1ekdYiON",
      "include_colab_link": true
    },
    "kernelspec": {
      "name": "python3",
      "display_name": "Python 3"
    },
    "language_info": {
      "name": "python"
    }
  },
  "cells": [
    {
      "cell_type": "markdown",
      "metadata": {
        "id": "view-in-github",
        "colab_type": "text"
      },
      "source": [
        "<a href=\"https://colab.research.google.com/github/Neeraj4788/python-Internship/blob/main/Grocery_Inventory_Management.ipynb\" target=\"_parent\"><img src=\"https://colab.research.google.com/assets/colab-badge.svg\" alt=\"Open In Colab\"/></a>"
      ]
    },
    {
      "cell_type": "code",
      "source": [
        "# Sample Inventory\n",
        "inventory = {\n",
        "    \"apple\": {\"quantity\": 50, \"price\": 1.0},\n",
        "    \"banana\": {\"quantity\": 30, \"price\": 0.5},\n",
        "    \"orange\": {\"quantity\": 40, \"price\": 0.75},\n",
        "    \"grape\" : {\"quantity\": 20, \"price\": 1.0},\n",
        "}\n",
        "\n",
        "# Function to display the current inventory\n",
        "def display_inventory():\n",
        "    print(\"Current Inventory:\")\n",
        "    for item, details in inventory.items():\n",
        "        print(f\"{item.capitalize()}: Quantity - {details['quantity']}, Price - ${details['price']}\")\n",
        "\n",
        "# Function to add a new item to the inventory\n",
        "def add_item():\n",
        "    item_name = input(\"Enter the name of the new item: \").lower()\n",
        "    quantity = int(input(\"Enter the quantity: \"))\n",
        "    price = float(input(\"Enter the price per unit: \"))\n",
        "\n",
        "    if item_name not in inventory:\n",
        "        inventory[item_name] = {\"quantity\": quantity, \"price\": price}\n",
        "        print(f\"{item_name.capitalize()} added to the inventory.\")\n",
        "    else:\n",
        "        print(f\"{item_name.capitalize()} already exists in the inventory. Use 'Update' to modify the quantity.\")\n",
        "\n",
        "# Function to update the quantity of an existing item\n",
        "def update_quantity():\n",
        "    item_name = input(\"Enter the name of the item to update: \").lower()\n",
        "\n",
        "    if item_name in inventory:\n",
        "        quantity_change = int(input(\"Enter the quantity change (positive for addition, negative for subtraction): \"))\n",
        "        inventory[item_name][\"quantity\"] += quantity_change\n",
        "        print(f\"Quantity of {item_name.capitalize()} updated.\")\n",
        "    else:\n",
        "        print(f\"{item_name.capitalize()} does not exist in the inventory. Use 'Add' to add a new item.\")\n",
        "\n",
        "# Function to remove an item from the inventory\n",
        "def remove_item():\n",
        "    item_name = input(\"Enter the name of the item to remove: \").lower()\n",
        "\n",
        "    if item_name in inventory:\n",
        "        del inventory[item_name]\n",
        "        print(f\"{item_name.capitalize()} removed from the inventory.\")\n",
        "    else:\n",
        "        print(f\"{item_name.capitalize()} does not exist in the inventory.\")\n",
        "\n",
        "# Main program\n",
        "while True:\n",
        "    print(\"\\nMenu:\")\n",
        "    print(\"1. Add new item\")\n",
        "    print(\"2. Update item quantity\")\n",
        "    print(\"3. View current inventory\")\n",
        "    print(\"4. Remove item\")\n",
        "    print(\"5. Exit\")\n",
        "\n",
        "    choice = input(\"Enter your choice (1-5): \")\n",
        "\n",
        "    if choice == '1':\n",
        "        add_item()\n",
        "    elif choice == '2':\n",
        "        update_quantity()\n",
        "    elif choice == '3':\n",
        "        display_inventory()\n",
        "    elif choice == '4':\n",
        "        remove_item()\n",
        "    elif choice == '5':\n",
        "        print(\"Exiting the inventory management system. Goodbye!\")\n",
        "        break\n",
        "    else:\n",
        "        print(\"Invalid choice. Please enter a number between 1 and 5.\")\n"
      ],
      "metadata": {
        "colab": {
          "base_uri": "https://localhost:8080/"
        },
        "id": "6uJ_Nl-2lZQB",
        "outputId": "0a30502a-4791-4cd4-b1f3-f1142e02c9a5"
      },
      "execution_count": 9,
      "outputs": [
        {
          "output_type": "stream",
          "name": "stdout",
          "text": [
            "\n",
            "Menu:\n",
            "1. Add new item\n",
            "2. Update item quantity\n",
            "3. View current inventory\n",
            "4. Remove item\n",
            "5. Exit\n",
            "Enter your choice (1-5): 1\n",
            "Enter the name of the new item: blueberry\n",
            "Enter the quantity: 20\n",
            "Enter the price per unit: 0.50\n",
            "Blueberry added to the inventory.\n",
            "\n",
            "Menu:\n",
            "1. Add new item\n",
            "2. Update item quantity\n",
            "3. View current inventory\n",
            "4. Remove item\n",
            "5. Exit\n",
            "Enter your choice (1-5): 3\n",
            "Current Inventory:\n",
            "Apple: Quantity - 50, Price - $1.0\n",
            "Banana: Quantity - 30, Price - $0.5\n",
            "Orange: Quantity - 40, Price - $0.75\n",
            "Grape: Quantity - 20, Price - $1.0\n",
            "Blueberry: Quantity - 20, Price - $0.5\n",
            "\n",
            "Menu:\n",
            "1. Add new item\n",
            "2. Update item quantity\n",
            "3. View current inventory\n",
            "4. Remove item\n",
            "5. Exit\n",
            "Enter your choice (1-5): 4\n",
            "Enter the name of the item to remove: Apple\n",
            "Apple removed from the inventory.\n",
            "\n",
            "Menu:\n",
            "1. Add new item\n",
            "2. Update item quantity\n",
            "3. View current inventory\n",
            "4. Remove item\n",
            "5. Exit\n",
            "Enter your choice (1-5): 5\n",
            "Exiting the inventory management system. Goodbye!\n"
          ]
        }
      ]
    }
  ]
}